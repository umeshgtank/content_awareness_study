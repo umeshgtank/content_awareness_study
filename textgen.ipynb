{
 "cells": [
  {
   "cell_type": "code",
   "execution_count": 1,
   "id": "4a2dd4f1",
   "metadata": {},
   "outputs": [
    {
     "name": "stdout",
     "output_type": "stream",
     "text": [
      "Collecting package metadata (current_repodata.json): done\n",
      "Solving environment: / \n",
      "The environment is inconsistent, please check the package plan carefully\n",
      "The following packages are causing the inconsistency:\n",
      "\n",
      "  - defaults/noarch::conda-pack==0.6.0=pyhd3eb1b0_0\n",
      "  - defaults/noarch::jupyterlab_server==2.8.2=pyhd3eb1b0_0\n",
      "  - defaults/noarch::cookiecutter==1.7.2=pyhd3eb1b0_0\n",
      "  - defaults/osx-64::astroid==2.6.6=py39hecd8cb5_0\n",
      "  - defaults/osx-64::numba==0.54.1=py39hae1ba45_0\n",
      "  - defaults/osx-64::jupyter==1.0.0=py39hecd8cb5_7\n",
      "  - defaults/noarch::python-lsp-black==1.0.0=pyhd3eb1b0_0\n",
      "  - defaults/osx-64::gevent==21.8.0=py39h9ed2024_1\n",
      "  - defaults/osx-64::zope.event==4.5.0=py39hecd8cb5_0\n",
      "  - defaults/noarch::nbclient==0.5.3=pyhd3eb1b0_0\n",
      "  - defaults/noarch::conda-repo-cli==1.0.4=pyhd3eb1b0_0\n",
      "  - defaults/noarch::backports.functools_lru_cache==1.6.4=pyhd3eb1b0_0\n",
      "  - defaults/osx-64::nbconvert==6.1.0=py39hecd8cb5_0\n",
      "  - defaults/noarch::binaryornot==0.4.4=pyhd3eb1b0_1\n",
      "  - defaults/osx-64::ipykernel==6.4.1=py39hecd8cb5_1\n",
      "  - defaults/noarch::nbclassic==0.2.6=pyhd3eb1b0_0\n",
      "  - defaults/noarch::pyls-spyder==0.4.0=pyhd3eb1b0_0\n",
      "  - defaults/osx-64::matplotlib-base==3.4.3=py39h0a11d32_0\n",
      "  - defaults/noarch::jinja2==2.11.3=pyhd3eb1b0_0\n",
      "  - defaults/osx-64::distributed==2021.10.0=py39hecd8cb5_0\n",
      "  - defaults/osx-64::notebook==6.4.5=py39hecd8cb5_0\n",
      "  - defaults/noarch::sphinx==4.2.0=pyhd3eb1b0_1\n",
      "  - defaults/noarch::numpydoc==1.1.0=pyhd3eb1b0_1\n",
      "  - defaults/osx-64::astropy==4.3.1=py39hf9932de_0\n",
      "  - defaults/osx-64::spyder-kernels==2.1.3=py39hecd8cb5_0\n",
      "  - defaults/noarch::conda-verify==3.4.2=py_1\n",
      "  - defaults/osx-64::scikit-learn-intelex==2021.3.0=py39hecd8cb5_0\n",
      "  - defaults/noarch::flake8==3.9.2=pyhd3eb1b0_0\n",
      "  - defaults/osx-64::pytest==6.2.4=py39hecd8cb5_2\n",
      "  - defaults/noarch::jupyterlab_pygments==0.1.2=py_0\n",
      "  - defaults/osx-64::watchdog==2.1.3=py39hd5f6b7e_0\n",
      "  - defaults/noarch::jinja2-time==0.2.0=pyhd3eb1b0_2\n",
      "  - defaults/noarch::bleach==4.0.0=pyhd3eb1b0_0\n",
      "  - defaults/osx-64::anyio==2.2.0=py39hecd8cb5_1\n",
      "  - defaults/osx-64::anaconda==2021.11=py39_0\n",
      "  - defaults/noarch::jupyter_console==6.4.0=pyhd3eb1b0_0\n",
      "  - defaults/osx-64::zope.interface==5.4.0=py39h9ed2024_0\n",
      "  - defaults/noarch::jsonschema==3.2.0=pyhd3eb1b0_2\n",
      "  - defaults/osx-64::anaconda-client==1.9.0=py39hecd8cb5_0\n",
      "  - defaults/osx-64::_ipyw_jlab_nb_ext_conf==0.1.0=py39hecd8cb5_0\n",
      "  - defaults/noarch::nltk==3.6.5=pyhd3eb1b0_0\n",
      "  - defaults/noarch::flask==1.1.2=pyhd3eb1b0_0\n",
      "  - defaults/osx-64::scikit-image==0.18.3=py39hae1ba45_0\n",
      "  - defaults/noarch::black==19.10b0=py_0\n",
      "  - defaults/noarch::pygments==2.10.0=pyhd3eb1b0_0\n",
      "  - defaults/noarch::nbformat==5.1.3=pyhd3eb1b0_0\n",
      "  - defaults/noarch::qtconsole==5.1.1=pyhd3eb1b0_0\n",
      "  - defaults/osx-64::ipython==7.29.0=py39h01d92e1_0\n",
      "  - defaults/noarch::jupyterlab==3.2.1=pyhd3eb1b0_1\n",
      "  - defaults/osx-64::pylint==2.9.6=py39hecd8cb5_1\n",
      "  - defaults/osx-64::spyder==5.1.5=py39hecd8cb5_1\n",
      "  - defaults/noarch::soupsieve==2.2.1=pyhd3eb1b0_0\n",
      "  - defaults/noarch::ipywidgets==7.6.5=pyhd3eb1b0_1\n",
      "  - defaults/osx-64::jupyter_server==1.4.1=py39hecd8cb5_0\n",
      "  - defaults/noarch::python-lsp-server==1.2.4=pyhd3eb1b0_0\n",
      "  - defaults/noarch::conda-token==0.3.0=pyhd3eb1b0_0\n",
      "  - defaults/noarch::seaborn==0.11.2=pyhd3eb1b0_0\n",
      "  - defaults/osx-64::bokeh==2.4.1=py39hecd8cb5_0\n",
      "  - defaults/noarch::dask==2021.10.0=pyhd3eb1b0_0\n",
      "  - defaults/osx-64::conda-build==3.21.5=py39hecd8cb5_0\n",
      "  - defaults/osx-64::conda==4.10.3=py39hecd8cb5_0\n",
      "  - defaults/osx-64::widgetsnbextension==3.5.1=py39hecd8cb5_0\n",
      "  - defaults/noarch::anaconda-project==0.10.1=pyhd3eb1b0_0\n",
      "  - defaults/osx-64::clyent==1.2.2=py39hecd8cb5_1\n",
      "  - defaults/osx-64::matplotlib==3.4.3=py39hecd8cb5_0\n",
      "  - defaults/osx-64::anaconda-navigator==2.1.1=py39_0\n",
      "failed with initial frozen solve. Retrying with flexible solve.\n",
      "Solving environment: failed with repodata from current_repodata.json, will retry with next repodata source.\n",
      "Collecting package metadata (repodata.json): done\n",
      "Solving environment: - \n",
      "The environment is inconsistent, please check the package plan carefully\n",
      "The following packages are causing the inconsistency:\n",
      "\n",
      "  - defaults/noarch::conda-pack==0.6.0=pyhd3eb1b0_0\n",
      "  - defaults/noarch::jupyterlab_server==2.8.2=pyhd3eb1b0_0\n",
      "  - defaults/noarch::cookiecutter==1.7.2=pyhd3eb1b0_0\n",
      "  - defaults/osx-64::astroid==2.6.6=py39hecd8cb5_0\n",
      "  - defaults/osx-64::numba==0.54.1=py39hae1ba45_0\n",
      "  - defaults/osx-64::jupyter==1.0.0=py39hecd8cb5_7\n",
      "  - defaults/noarch::python-lsp-black==1.0.0=pyhd3eb1b0_0\n",
      "  - defaults/osx-64::gevent==21.8.0=py39h9ed2024_1\n",
      "  - defaults/osx-64::zope.event==4.5.0=py39hecd8cb5_0\n",
      "  - defaults/noarch::nbclient==0.5.3=pyhd3eb1b0_0\n",
      "  - defaults/noarch::conda-repo-cli==1.0.4=pyhd3eb1b0_0\n",
      "  - defaults/noarch::backports.functools_lru_cache==1.6.4=pyhd3eb1b0_0\n",
      "  - defaults/osx-64::nbconvert==6.1.0=py39hecd8cb5_0\n",
      "  - defaults/noarch::binaryornot==0.4.4=pyhd3eb1b0_1\n",
      "  - defaults/osx-64::ipykernel==6.4.1=py39hecd8cb5_1\n",
      "  - defaults/noarch::nbclassic==0.2.6=pyhd3eb1b0_0\n",
      "  - defaults/noarch::pyls-spyder==0.4.0=pyhd3eb1b0_0\n",
      "  - defaults/osx-64::matplotlib-base==3.4.3=py39h0a11d32_0\n",
      "  - defaults/noarch::jinja2==2.11.3=pyhd3eb1b0_0\n",
      "  - defaults/osx-64::distributed==2021.10.0=py39hecd8cb5_0\n",
      "  - defaults/osx-64::notebook==6.4.5=py39hecd8cb5_0\n",
      "  - defaults/noarch::sphinx==4.2.0=pyhd3eb1b0_1\n",
      "  - defaults/noarch::numpydoc==1.1.0=pyhd3eb1b0_1\n",
      "  - defaults/osx-64::astropy==4.3.1=py39hf9932de_0\n",
      "  - defaults/osx-64::spyder-kernels==2.1.3=py39hecd8cb5_0\n",
      "  - defaults/noarch::conda-verify==3.4.2=py_1\n",
      "  - defaults/osx-64::scikit-learn-intelex==2021.3.0=py39hecd8cb5_0\n",
      "  - defaults/noarch::flake8==3.9.2=pyhd3eb1b0_0\n",
      "  - defaults/osx-64::pytest==6.2.4=py39hecd8cb5_2\n",
      "  - defaults/noarch::jupyterlab_pygments==0.1.2=py_0\n",
      "  - defaults/osx-64::watchdog==2.1.3=py39hd5f6b7e_0\n",
      "  - defaults/noarch::jinja2-time==0.2.0=pyhd3eb1b0_2\n",
      "  - defaults/noarch::bleach==4.0.0=pyhd3eb1b0_0\n",
      "  - defaults/osx-64::anyio==2.2.0=py39hecd8cb5_1\n",
      "  - defaults/osx-64::anaconda==2021.11=py39_0\n",
      "  - defaults/noarch::jupyter_console==6.4.0=pyhd3eb1b0_0\n",
      "  - defaults/osx-64::zope.interface==5.4.0=py39h9ed2024_0\n",
      "  - defaults/noarch::jsonschema==3.2.0=pyhd3eb1b0_2\n",
      "  - defaults/osx-64::anaconda-client==1.9.0=py39hecd8cb5_0\n",
      "  - defaults/osx-64::_ipyw_jlab_nb_ext_conf==0.1.0=py39hecd8cb5_0\n",
      "  - defaults/noarch::nltk==3.6.5=pyhd3eb1b0_0\n",
      "  - defaults/noarch::flask==1.1.2=pyhd3eb1b0_0\n",
      "  - defaults/osx-64::scikit-image==0.18.3=py39hae1ba45_0\n",
      "  - defaults/noarch::black==19.10b0=py_0\n",
      "  - defaults/noarch::pygments==2.10.0=pyhd3eb1b0_0\n",
      "  - defaults/noarch::nbformat==5.1.3=pyhd3eb1b0_0\n",
      "  - defaults/noarch::qtconsole==5.1.1=pyhd3eb1b0_0\n",
      "  - defaults/osx-64::ipython==7.29.0=py39h01d92e1_0\n",
      "  - defaults/noarch::jupyterlab==3.2.1=pyhd3eb1b0_1\n",
      "  - defaults/osx-64::pylint==2.9.6=py39hecd8cb5_1\n",
      "  - defaults/osx-64::spyder==5.1.5=py39hecd8cb5_1\n",
      "  - defaults/noarch::soupsieve==2.2.1=pyhd3eb1b0_0\n",
      "  - defaults/noarch::ipywidgets==7.6.5=pyhd3eb1b0_1\n",
      "  - defaults/osx-64::jupyter_server==1.4.1=py39hecd8cb5_0\n",
      "  - defaults/noarch::python-lsp-server==1.2.4=pyhd3eb1b0_0\n",
      "  - defaults/noarch::conda-token==0.3.0=pyhd3eb1b0_0\n",
      "  - defaults/noarch::seaborn==0.11.2=pyhd3eb1b0_0\n",
      "  - defaults/osx-64::bokeh==2.4.1=py39hecd8cb5_0\n",
      "  - defaults/noarch::dask==2021.10.0=pyhd3eb1b0_0\n",
      "  - defaults/osx-64::conda-build==3.21.5=py39hecd8cb5_0\n",
      "  - defaults/osx-64::conda==4.10.3=py39hecd8cb5_0\n",
      "  - defaults/osx-64::widgetsnbextension==3.5.1=py39hecd8cb5_0\n",
      "  - defaults/noarch::anaconda-project==0.10.1=pyhd3eb1b0_0\n",
      "  - defaults/osx-64::clyent==1.2.2=py39hecd8cb5_1\n",
      "  - defaults/osx-64::matplotlib==3.4.3=py39hecd8cb5_0\n",
      "  - defaults/osx-64::anaconda-navigator==2.1.1=py39_0\n",
      "done\n",
      "\n",
      "\n",
      "==> WARNING: A newer version of conda exists. <==\n",
      "  current version: 4.10.3\n",
      "  latest version: 23.1.0\n",
      "\n",
      "Please update conda by running\n",
      "\n",
      "    $ conda update -n base -c defaults conda\n",
      "\n",
      "\n",
      "\n",
      "## Package Plan ##\n",
      "\n",
      "  environment location: /Users/lab/opt/anaconda3\n",
      "\n",
      "  added / updated specs:\n",
      "    - cpuonly\n",
      "    - pytorch\n",
      "\n",
      "\n",
      "The following packages will be downloaded:\n",
      "\n",
      "    package                    |            build\n",
      "    ---------------------------|-----------------\n",
      "    _anaconda_depends-2021.11  |           py39_0           7 KB\n",
      "    anaconda-custom            |           py39_1           4 KB\n",
      "    beautifulsoup4-4.11.1      |   py39hecd8cb5_0         189 KB\n",
      "    ca-certificates-2023.01.10 |       hecd8cb5_0         121 KB\n",
      "    certifi-2022.12.7          |   py39hecd8cb5_0         151 KB\n",
      "    cpuonly-2.0                |                0           2 KB  pytorch\n",
      "    flit-core-3.6.0            |     pyhd3eb1b0_0          42 KB\n",
      "    idna-3.4                   |   py39hecd8cb5_0          96 KB\n",
      "    joblib-1.1.1               |   py39hecd8cb5_0         384 KB\n",
      "    openssl-1.1.1t             |       hca72f7f_0         3.3 MB\n",
      "    packaging-22.0             |   py39hecd8cb5_0          69 KB\n",
      "    pip-23.0.1                 |   py39hecd8cb5_0         2.5 MB\n",
      "    pyparsing-3.0.9            |   py39hecd8cb5_0         149 KB\n",
      "    pytorch-2.0.0              |          py3.9_0        76.4 MB  pytorch\n",
      "    pytorch-mutex-1.0          |              cpu           3 KB  pytorch\n",
      "    pyyaml-6.0                 |   py39h6c40b1e_1         172 KB\n",
      "    requests-2.28.1            |   py39hecd8cb5_1          99 KB\n",
      "    scikit-learn-1.1.1         |   py39he9d5cce_0         5.7 MB\n",
      "    setuptools-65.6.3          |   py39hecd8cb5_0         1.1 MB\n",
      "    typing_extensions-4.4.0    |   py39hecd8cb5_0          46 KB\n",
      "    urllib3-1.26.14            |   py39hecd8cb5_0         194 KB\n",
      "    wheel-0.38.4               |   py39hecd8cb5_0          65 KB\n",
      "    ------------------------------------------------------------\n",
      "                                           Total:        90.9 MB\n",
      "\n",
      "The following NEW packages will be INSTALLED:\n",
      "\n",
      "  _anaconda_depends  pkgs/main/osx-64::_anaconda_depends-2021.11-py39_0\n",
      "  beautifulsoup4     pkgs/main/osx-64::beautifulsoup4-4.11.1-py39hecd8cb5_0\n",
      "  chardet            pkgs/main/osx-64::chardet-4.0.0-py39hecd8cb5_1003\n",
      "  cloudpickle        pkgs/main/noarch::cloudpickle-2.0.0-pyhd3eb1b0_0\n",
      "  cpuonly            pytorch/noarch::cpuonly-2.0-0\n",
      "  dask-core          pkgs/main/noarch::dask-core-2021.10.0-pyhd3eb1b0_0\n",
      "  flit-core          pkgs/main/noarch::flit-core-3.6.0-pyhd3eb1b0_0\n",
      "  idna               pkgs/main/osx-64::idna-3.4-py39hecd8cb5_0\n",
      "  joblib             pkgs/main/osx-64::joblib-1.1.1-py39hecd8cb5_0\n",
      "  markupsafe         pkgs/main/osx-64::markupsafe-1.1.1-py39h9ed2024_0\n",
      "  packaging          pkgs/main/osx-64::packaging-22.0-py39hecd8cb5_0\n",
      "  pip                pkgs/main/osx-64::pip-23.0.1-py39hecd8cb5_0\n",
      "  pluggy             pkgs/main/osx-64::pluggy-0.13.1-py39hecd8cb5_0\n",
      "  pyparsing          pkgs/main/osx-64::pyparsing-3.0.9-py39hecd8cb5_0\n",
      "  pytorch            pytorch/osx-64::pytorch-2.0.0-py3.9_0\n",
      "  pytorch-mutex      pytorch/noarch::pytorch-mutex-1.0-cpu\n",
      "  pyyaml             pkgs/main/osx-64::pyyaml-6.0-py39h6c40b1e_1\n",
      "  requests           pkgs/main/osx-64::requests-2.28.1-py39hecd8cb5_1\n",
      "  scikit-learn       pkgs/main/osx-64::scikit-learn-1.1.1-py39he9d5cce_0\n",
      "  setuptools         pkgs/main/osx-64::setuptools-65.6.3-py39hecd8cb5_0\n",
      "  typing_extensions  pkgs/main/osx-64::typing_extensions-4.4.0-py39hecd8cb5_0\n",
      "  urllib3            pkgs/main/osx-64::urllib3-1.26.14-py39hecd8cb5_0\n",
      "  wheel              pkgs/main/osx-64::wheel-0.38.4-py39hecd8cb5_0\n",
      "\n",
      "The following packages will be UPDATED:\n",
      "\n",
      "  ca-certificates                     2021.10.26-hecd8cb5_2 --> 2023.01.10-hecd8cb5_0\n",
      "  certifi                          2021.10.8-py39hecd8cb5_0 --> 2022.12.7-py39hecd8cb5_0\n",
      "  openssl                                 1.1.1l-h9ed2024_0 --> 1.1.1t-hca72f7f_0\n",
      "\n",
      "The following packages will be DOWNGRADED:\n",
      "\n",
      "  anaconda                                   2021.11-py39_0 --> custom-py39_1\n",
      "\n",
      "\n",
      "\n",
      "Downloading and Extracting Packages\n"
     ]
    },
    {
     "name": "stdout",
     "output_type": "stream",
     "text": [
      "openssl-1.1.1t       | 3.3 MB    | ##################################### | 100% \n",
      "setuptools-65.6.3    | 1.1 MB    | ##################################### | 100% \n",
      "requests-2.28.1      | 99 KB     | ##################################### | 100% \n",
      "_anaconda_depends-20 | 7 KB      | ##################################### | 100% \n",
      "flit-core-3.6.0      | 42 KB     | ##################################### | 100% \n",
      "scikit-learn-1.1.1   | 5.7 MB    | ##################################### | 100% \n",
      "idna-3.4             | 96 KB     | ##################################### | 100% \n",
      "beautifulsoup4-4.11. | 189 KB    | ##################################### | 100% \n",
      "wheel-0.38.4         | 65 KB     | ##################################### | 100% \n",
      "ca-certificates-2023 | 121 KB    | ##################################### | 100% \n",
      "pyparsing-3.0.9      | 149 KB    | ##################################### | 100% \n",
      "packaging-22.0       | 69 KB     | ##################################### | 100% \n",
      "pyyaml-6.0           | 172 KB    | ##################################### | 100% \n",
      "certifi-2022.12.7    | 151 KB    | ##################################### | 100% \n",
      "anaconda-custom      | 4 KB      | ##################################### | 100% \n",
      "cpuonly-2.0          | 2 KB      | ##################################### | 100% \n",
      "typing_extensions-4. | 46 KB     | ##################################### | 100% \n",
      "pytorch-mutex-1.0    | 3 KB      | ##################################### | 100% \n",
      "urllib3-1.26.14      | 194 KB    | ##################################### | 100% \n",
      "joblib-1.1.1         | 384 KB    | ##################################### | 100% \n",
      "pip-23.0.1           | 2.5 MB    | ##################################### | 100% \n",
      "pytorch-2.0.0        | 76.4 MB   | ##################################### | 100% \n",
      "Preparing transaction: done\n",
      "Verifying transaction: failed\n",
      "\n",
      "RemoveError: 'requests' is a dependency of conda and cannot be removed from\n",
      "conda's operating environment.\n",
      "RemoveError: 'setuptools' is a dependency of conda and cannot be removed from\n",
      "conda's operating environment.\n",
      "\n",
      "\n",
      "Note: you may need to restart the kernel to use updated packages.\n"
     ]
    }
   ],
   "source": [
    "conda install pytorch cpuonly -c pytorch"
   ]
  },
  {
   "cell_type": "code",
   "execution_count": 1,
   "id": "8e0b27fe",
   "metadata": {},
   "outputs": [
    {
     "name": "stdout",
     "output_type": "stream",
     "text": [
      "Collecting simpletransformers\n",
      "\u001b[?25l  Downloading https://files.pythonhosted.org/packages/b6/7b/de9e7c1f2556ecf5f2ad449a9eead875d23326648b654deb4c5728cba05a/simpletransformers-0.63.9-py3-none-any.whl (250kB)\n",
      "\u001b[K     |████████████████████████████████| 256kB 2.6MB/s eta 0:00:01\n",
      "\u001b[?25hCollecting streamlit\n",
      "\u001b[?25l  Downloading https://files.pythonhosted.org/packages/a0/2b/b710d52297f733e703fecce3614d6cfa81e11d241c246354fb5b55aa9572/streamlit-1.12.0-py2.py3-none-any.whl (9.1MB)\n",
      "\u001b[K     |████████████████████████████████| 9.1MB 12.4MB/s eta 0:00:01\n",
      "\u001b[?25hCollecting datasets\n",
      "\u001b[?25l  Downloading https://files.pythonhosted.org/packages/fe/17/5825fdf034ff1a315becdbb9b6fe5a2bd9d8e724464535f18809593bf9c2/datasets-2.10.1-py3-none-any.whl (469kB)\n",
      "\u001b[K     |████████████████████████████████| 471kB 8.1MB/s eta 0:00:01\n",
      "\u001b[?25hRequirement already satisfied: scipy in /Users/lab/opt/anaconda3/lib/python3.9/site-packages (from simpletransformers) (1.7.1)\n",
      "Requirement already satisfied: requests in /Users/lab/opt/anaconda3/lib/python3.9/site-packages (from simpletransformers) (2.28.2)\n",
      "Requirement already satisfied: scikit-learn in /Users/lab/opt/anaconda3/lib/python3.9/site-packages (from simpletransformers) (1.0.2)\n",
      "Requirement already satisfied: regex in /Users/lab/opt/anaconda3/lib/python3.9/site-packages (from simpletransformers) (2021.8.3)\n",
      "Requirement already satisfied: pandas in /Users/lab/opt/anaconda3/lib/python3.9/site-packages (from simpletransformers) (1.3.4)\n",
      "Requirement already satisfied: tokenizers in /Users/lab/opt/anaconda3/lib/python3.9/site-packages (from simpletransformers) (0.12.1)\n",
      "Requirement already satisfied: transformers>=4.6.0 in /Users/lab/opt/anaconda3/lib/python3.9/site-packages (from simpletransformers) (4.21.1)\n",
      "Requirement already satisfied: numpy in /Users/lab/opt/anaconda3/lib/python3.9/site-packages (from simpletransformers) (1.20.3)\n",
      "Requirement already satisfied: tensorboard in /Users/lab/opt/anaconda3/lib/python3.9/site-packages (from simpletransformers) (2.8.0)\n",
      "Requirement already satisfied: tqdm>=4.47.0 in /Users/lab/opt/anaconda3/lib/python3.9/site-packages (from simpletransformers) (4.62.3)\n",
      "Requirement already satisfied: seqeval in /Users/lab/opt/anaconda3/lib/python3.9/site-packages (from simpletransformers) (1.2.2)\n",
      "Collecting wandb>=0.10.32\n",
      "\u001b[?25l  Downloading https://files.pythonhosted.org/packages/f9/a6/1696ae6252d664c44fc7e0dafee9cc5084211583f8febb53f7d0516c2f18/wandb-0.14.0-py3-none-any.whl (2.0MB)\n",
      "\u001b[K     |████████████████████████████████| 2.0MB 9.8MB/s eta 0:00:01\n",
      "\u001b[?25hRequirement already satisfied: sentencepiece in /Users/lab/opt/anaconda3/lib/python3.9/site-packages (from simpletransformers) (0.1.97)\n",
      "Requirement already satisfied: python-dateutil in /Users/lab/opt/anaconda3/lib/python3.9/site-packages (from streamlit->simpletransformers) (2.8.2)\n",
      "Collecting gitpython!=3.1.19\n",
      "\u001b[?25l  Downloading https://files.pythonhosted.org/packages/9e/8a/d1e02cc111d65b0346f70abb83c51f8593e7134bf694a4a56d1a470caaf7/GitPython-3.1.31-py3-none-any.whl (184kB)\n",
      "\u001b[K     |████████████████████████████████| 194kB 9.0MB/s eta 0:00:01\n",
      "\u001b[?25hCollecting rich>=10.11.0\n",
      "\u001b[?25l  Downloading https://files.pythonhosted.org/packages/6b/f0/79df8eaa345ece1d33d8dfeec46ea166028da37b314dc44ead18c058a126/rich-13.3.2-py3-none-any.whl (238kB)\n",
      "\u001b[K     |████████████████████████████████| 245kB 11.2MB/s eta 0:00:01\n",
      "\u001b[?25hRequirement already satisfied: importlib-metadata>=1.4 in /Users/lab/opt/anaconda3/lib/python3.9/site-packages (from streamlit->simpletransformers) (4.8.1)\n",
      "Requirement already satisfied: typing-extensions>=3.10.0.0 in /Users/lab/opt/anaconda3/lib/python3.9/site-packages (from streamlit->simpletransformers) (4.4.0)\n",
      "Requirement already satisfied: cachetools>=4.0 in /Users/lab/opt/anaconda3/lib/python3.9/site-packages (from streamlit->simpletransformers) (5.0.0)\n",
      "Collecting validators>=0.2\n",
      "  Downloading https://files.pythonhosted.org/packages/95/14/ed0af6865d378cfc3c504aed0d278a890cbefb2f1934bf2dbe92ecf9d6b1/validators-0.20.0.tar.gz\n",
      "Requirement already satisfied: tornado>=5.0 in /Users/lab/opt/anaconda3/lib/python3.9/site-packages (from streamlit->simpletransformers) (6.1)\n",
      "Collecting blinker>=1.0.0\n",
      "  Downloading https://files.pythonhosted.org/packages/30/41/caa5da2dbe6d26029dfe11d31dfa8132b4d6d30b6d6b61a24824075a5f06/blinker-1.5-py2.py3-none-any.whl\n",
      "Requirement already satisfied: click>=7.0 in /Users/lab/opt/anaconda3/lib/python3.9/site-packages (from streamlit->simpletransformers) (8.0.3)\n",
      "Requirement already satisfied: protobuf<4,>=3.12 in /Users/lab/opt/anaconda3/lib/python3.9/site-packages (from streamlit->simpletransformers) (3.19.4)\n",
      "Collecting pydeck>=0.1.dev5\n",
      "\u001b[?25l  Downloading https://files.pythonhosted.org/packages/ac/1e/676ed6c028bfd39d6c7c75abd57bc482f7eaa813f3faa715d80431732a43/pydeck-0.8.0-py2.py3-none-any.whl (4.7MB)\n",
      "\u001b[K     |████████████████████████████████| 4.7MB 11.2MB/s eta 0:00:01\n",
      "\u001b[?25hRequirement already satisfied: pillow>=6.2.0 in /Users/lab/opt/anaconda3/lib/python3.9/site-packages (from streamlit->simpletransformers) (8.4.0)\n",
      "Requirement already satisfied: packaging>=14.1 in /Users/lab/opt/anaconda3/lib/python3.9/site-packages (from streamlit->simpletransformers) (20.9)\n",
      "Collecting semver\n",
      "  Downloading https://files.pythonhosted.org/packages/0b/70/b84f9944a03964a88031ef6ac219b6c91e8ba2f373362329d8770ef36f02/semver-2.13.0-py2.py3-none-any.whl\n",
      "Requirement already satisfied: pyarrow>=4.0 in /Users/lab/opt/anaconda3/lib/python3.9/site-packages (from streamlit->simpletransformers) (7.0.0)\n",
      "Requirement already satisfied: toml in /Users/lab/opt/anaconda3/lib/python3.9/site-packages (from streamlit->simpletransformers) (0.10.2)\n",
      "Collecting altair>=3.2.0\n",
      "\u001b[?25l  Downloading https://files.pythonhosted.org/packages/18/62/47452306e84d4d2e67f9c559380aeb230f5e6ca84fafb428dd36b96a99ba/altair-4.2.2-py3-none-any.whl (813kB)\n",
      "\u001b[K     |████████████████████████████████| 819kB 6.2MB/s eta 0:00:01\n",
      "\u001b[?25hRequirement already satisfied: tzlocal>=1.1 in /Users/lab/opt/anaconda3/lib/python3.9/site-packages (from streamlit->simpletransformers) (4.2)\n",
      "Collecting pympler>=0.9\n",
      "\u001b[?25l  Downloading https://files.pythonhosted.org/packages/2c/42/41e1469ed0b37b9c8532cb8074bea179f7d85ee7e82a59b5b6c289ed6045/Pympler-1.0.1-py3-none-any.whl (164kB)\n",
      "\u001b[K     |████████████████████████████████| 174kB 15.3MB/s eta 0:00:01\n",
      "\u001b[?25hCollecting xxhash\n",
      "  Downloading https://files.pythonhosted.org/packages/a8/af/d87659959743be6cc2dc81dae1b2086cabf39549524df3c100f7f7d50829/xxhash-3.2.0-cp39-cp39-macosx_10_9_x86_64.whl\n",
      "Requirement already satisfied: aiohttp in /Users/lab/opt/anaconda3/lib/python3.9/site-packages (from datasets->simpletransformers) (3.8.3)\n",
      "Requirement already satisfied: huggingface-hub<1.0.0,>=0.2.0 in /Users/lab/opt/anaconda3/lib/python3.9/site-packages (from datasets->simpletransformers) (0.8.1)\n",
      "Requirement already satisfied: pyyaml>=5.1 in /Users/lab/opt/anaconda3/lib/python3.9/site-packages (from datasets->simpletransformers) (5.4.1)\n",
      "Collecting fsspec[http]>=2021.11.1\n",
      "\u001b[?25l  Downloading https://files.pythonhosted.org/packages/4f/65/887925f1549fcb6ac3abb23a747c10f5ab083e8471fe568768b18bdb15b2/fsspec-2023.3.0-py3-none-any.whl (145kB)\n",
      "\u001b[K     |████████████████████████████████| 153kB 13.2MB/s eta 0:00:01\n",
      "\u001b[?25hCollecting responses<0.19\n",
      "  Downloading https://files.pythonhosted.org/packages/79/f3/2b3a6dc5986303b3dd1bbbcf482022acb2583c428cd23f0b6d37b1a1a519/responses-0.18.0-py3-none-any.whl\n",
      "Requirement already satisfied: dill<0.3.7,>=0.3.0 in /Users/lab/opt/anaconda3/lib/python3.9/site-packages (from datasets->simpletransformers) (0.3.1.1)\n",
      "Collecting multiprocess\n",
      "\u001b[?25l  Downloading https://files.pythonhosted.org/packages/6a/f4/fbeb03ef7abdda54db4a6a75c971b88ab73d724ff09e3275cc1e99f1c946/multiprocess-0.70.14-py39-none-any.whl (132kB)\n",
      "\u001b[K     |████████████████████████████████| 133kB 10.5MB/s eta 0:00:01\n",
      "\u001b[?25hRequirement already satisfied: idna<4,>=2.5 in /Users/lab/opt/anaconda3/lib/python3.9/site-packages (from requests->simpletransformers) (2.10)\n",
      "Requirement already satisfied: certifi>=2017.4.17 in /Users/lab/opt/anaconda3/lib/python3.9/site-packages (from requests->simpletransformers) (2021.10.8)\n",
      "Requirement already satisfied: urllib3<1.27,>=1.21.1 in /Users/lab/opt/anaconda3/lib/python3.9/site-packages (from requests->simpletransformers) (1.25.11)\n",
      "Requirement already satisfied: charset-normalizer<4,>=2 in /Users/lab/opt/anaconda3/lib/python3.9/site-packages (from requests->simpletransformers) (2.0.4)\n",
      "Requirement already satisfied: joblib>=0.11 in /Users/lab/opt/anaconda3/lib/python3.9/site-packages (from scikit-learn->simpletransformers) (1.0.1)\n",
      "Requirement already satisfied: threadpoolctl>=2.0.0 in /Users/lab/opt/anaconda3/lib/python3.9/site-packages (from scikit-learn->simpletransformers) (2.2.0)\n"
     ]
    },
    {
     "name": "stdout",
     "output_type": "stream",
     "text": [
      "Requirement already satisfied: pytz>=2017.3 in /Users/lab/opt/anaconda3/lib/python3.9/site-packages (from pandas->simpletransformers) (2021.3)\n",
      "Requirement already satisfied: filelock in /Users/lab/opt/anaconda3/lib/python3.9/site-packages (from transformers>=4.6.0->simpletransformers) (3.3.1)\n",
      "Requirement already satisfied: markdown>=2.6.8 in /Users/lab/opt/anaconda3/lib/python3.9/site-packages (from tensorboard->simpletransformers) (3.3.6)\n",
      "Requirement already satisfied: google-auth<3,>=1.6.3 in /Users/lab/opt/anaconda3/lib/python3.9/site-packages (from tensorboard->simpletransformers) (2.6.6)\n",
      "Requirement already satisfied: werkzeug>=0.11.15 in /Users/lab/opt/anaconda3/lib/python3.9/site-packages (from tensorboard->simpletransformers) (2.0.2)\n",
      "Requirement already satisfied: grpcio>=1.24.3 in /Users/lab/opt/anaconda3/lib/python3.9/site-packages (from tensorboard->simpletransformers) (1.44.0)\n",
      "Requirement already satisfied: absl-py>=0.4 in /Users/lab/opt/anaconda3/lib/python3.9/site-packages (from tensorboard->simpletransformers) (1.0.0)\n",
      "Requirement already satisfied: tensorboard-plugin-wit>=1.6.0 in /Users/lab/opt/anaconda3/lib/python3.9/site-packages (from tensorboard->simpletransformers) (1.8.1)\n",
      "Requirement already satisfied: tensorboard-data-server<0.7.0,>=0.6.0 in /Users/lab/opt/anaconda3/lib/python3.9/site-packages (from tensorboard->simpletransformers) (0.6.1)\n",
      "Requirement already satisfied: wheel>=0.26 in /Users/lab/opt/anaconda3/lib/python3.9/site-packages (from tensorboard->simpletransformers) (0.37.1)\n",
      "Requirement already satisfied: google-auth-oauthlib<0.5,>=0.4.1 in /Users/lab/opt/anaconda3/lib/python3.9/site-packages (from tensorboard->simpletransformers) (0.4.6)\n",
      "Requirement already satisfied: setuptools>=41.0.0 in /Users/lab/opt/anaconda3/lib/python3.9/site-packages (from tensorboard->simpletransformers) (63.4.3)\n",
      "Collecting pathtools\n",
      "  Downloading https://files.pythonhosted.org/packages/e7/7f/470d6fcdf23f9f3518f6b0b76be9df16dcc8630ad409947f8be2eb0ed13a/pathtools-0.1.2.tar.gz\n",
      "Requirement already satisfied: appdirs>=1.4.3 in /Users/lab/opt/anaconda3/lib/python3.9/site-packages (from wandb>=0.10.32->simpletransformers) (1.4.4)\n",
      "Collecting docker-pycreds>=0.4.0\n",
      "  Downloading https://files.pythonhosted.org/packages/f5/e8/f6bd1eee09314e7e6dee49cbe2c5e22314ccdb38db16c9fc72d2fa80d054/docker_pycreds-0.4.0-py2.py3-none-any.whl\n",
      "Requirement already satisfied: sentry-sdk>=1.0.0 in /Users/lab/opt/anaconda3/lib/python3.9/site-packages (from wandb>=0.10.32->simpletransformers) (1.9.10)\n",
      "Requirement already satisfied: psutil>=5.0.0 in /Users/lab/opt/anaconda3/lib/python3.9/site-packages (from wandb>=0.10.32->simpletransformers) (5.8.0)\n",
      "Collecting setproctitle\n",
      "  Downloading https://files.pythonhosted.org/packages/4a/a4/cb6c3d274e8f5c36c65590723d58f994f407a0c835ac94379c00b89df4dd/setproctitle-1.3.2-cp39-cp39-macosx_10_9_x86_64.whl\n",
      "Requirement already satisfied: six>=1.5 in /Users/lab/opt/anaconda3/lib/python3.9/site-packages (from python-dateutil->streamlit->simpletransformers) (1.16.0)\n",
      "Collecting gitdb<5,>=4.0.1\n",
      "\u001b[?25l  Downloading https://files.pythonhosted.org/packages/21/a6/35f83efec687615c711fe0a09b67e58f6d1254db27b1013119de46f450bd/gitdb-4.0.10-py3-none-any.whl (62kB)\n",
      "\u001b[K     |████████████████████████████████| 71kB 8.2MB/s  eta 0:00:01\n",
      "\u001b[?25hCollecting pygments<3.0.0,>=2.13.0\n",
      "\u001b[?25l  Downloading https://files.pythonhosted.org/packages/0b/42/d9d95cc461f098f204cd20c85642ae40fbff81f74c300341b8d0e0df14e0/Pygments-2.14.0-py3-none-any.whl (1.1MB)\n",
      "\u001b[K     |████████████████████████████████| 1.1MB 8.2MB/s eta 0:00:01\n",
      "\u001b[?25hCollecting markdown-it-py<3.0.0,>=2.2.0\n",
      "\u001b[?25l  Downloading https://files.pythonhosted.org/packages/bf/25/2d88e8feee8e055d015343f9b86e370a1ccbec546f2865c98397aaef24af/markdown_it_py-2.2.0-py3-none-any.whl (84kB)\n",
      "\u001b[K     |████████████████████████████████| 92kB 9.2MB/s  eta 0:00:01\n",
      "\u001b[?25hRequirement already satisfied: zipp>=0.5 in /Users/lab/opt/anaconda3/lib/python3.9/site-packages (from importlib-metadata>=1.4->streamlit->simpletransformers) (3.6.0)\n",
      "Requirement already satisfied: decorator>=3.4.0 in /Users/lab/opt/anaconda3/lib/python3.9/site-packages (from validators>=0.2->streamlit->simpletransformers) (5.1.0)\n",
      "Requirement already satisfied: jinja2>=2.10.1 in /Users/lab/opt/anaconda3/lib/python3.9/site-packages (from pydeck>=0.1.dev5->streamlit->simpletransformers) (2.11.3)\n",
      "Requirement already satisfied: pyparsing>=2.0.2 in /Users/lab/opt/anaconda3/lib/python3.9/site-packages (from packaging>=14.1->streamlit->simpletransformers) (2.4.7)\n",
      "Requirement already satisfied: jsonschema>=3.0 in /Users/lab/opt/anaconda3/lib/python3.9/site-packages (from altair>=3.2.0->streamlit->simpletransformers) (3.2.0)\n",
      "Requirement already satisfied: entrypoints in /Users/lab/opt/anaconda3/lib/python3.9/site-packages (from altair>=3.2.0->streamlit->simpletransformers) (0.3)\n",
      "Requirement already satisfied: toolz in /Users/lab/opt/anaconda3/lib/python3.9/site-packages (from altair>=3.2.0->streamlit->simpletransformers) (0.11.1)\n",
      "Requirement already satisfied: pytz-deprecation-shim in /Users/lab/opt/anaconda3/lib/python3.9/site-packages (from tzlocal>=1.1->streamlit->simpletransformers) (0.1.0.post0)\n",
      "Requirement already satisfied: aiosignal>=1.1.2 in /Users/lab/opt/anaconda3/lib/python3.9/site-packages (from aiohttp->datasets->simpletransformers) (1.3.1)\n",
      "Requirement already satisfied: attrs>=17.3.0 in /Users/lab/opt/anaconda3/lib/python3.9/site-packages (from aiohttp->datasets->simpletransformers) (21.2.0)\n",
      "Requirement already satisfied: async-timeout<5.0,>=4.0.0a3 in /Users/lab/opt/anaconda3/lib/python3.9/site-packages (from aiohttp->datasets->simpletransformers) (4.0.2)\n",
      "Requirement already satisfied: multidict<7.0,>=4.5 in /Users/lab/opt/anaconda3/lib/python3.9/site-packages (from aiohttp->datasets->simpletransformers) (5.2.0)\n",
      "Requirement already satisfied: frozenlist>=1.1.1 in /Users/lab/opt/anaconda3/lib/python3.9/site-packages (from aiohttp->datasets->simpletransformers) (1.3.3)\n",
      "Requirement already satisfied: yarl<2.0,>=1.0 in /Users/lab/opt/anaconda3/lib/python3.9/site-packages (from aiohttp->datasets->simpletransformers) (1.8.2)\n",
      "Requirement already satisfied: rsa<5,>=3.1.4; python_version >= \"3.6\" in /Users/lab/opt/anaconda3/lib/python3.9/site-packages (from google-auth<3,>=1.6.3->tensorboard->simpletransformers) (4.8)\n",
      "Requirement already satisfied: pyasn1-modules>=0.2.1 in /Users/lab/opt/anaconda3/lib/python3.9/site-packages (from google-auth<3,>=1.6.3->tensorboard->simpletransformers) (0.2.8)\n",
      "Requirement already satisfied: requests-oauthlib>=0.7.0 in /Users/lab/opt/anaconda3/lib/python3.9/site-packages (from google-auth-oauthlib<0.5,>=0.4.1->tensorboard->simpletransformers) (1.3.1)\n",
      "Collecting smmap<6,>=3.0.1\n",
      "  Downloading https://files.pythonhosted.org/packages/6d/01/7caa71608bc29952ae09b0be63a539e50d2484bc37747797a66a60679856/smmap-5.0.0-py3-none-any.whl\n",
      "Collecting mdurl~=0.1\n",
      "  Downloading https://files.pythonhosted.org/packages/b3/38/89ba8ad64ae25be8de66a6d463314cf1eb366222074cfda9ee839c56a4b4/mdurl-0.1.2-py3-none-any.whl\n",
      "Requirement already satisfied: MarkupSafe>=0.23 in /Users/lab/opt/anaconda3/lib/python3.9/site-packages (from jinja2>=2.10.1->pydeck>=0.1.dev5->streamlit->simpletransformers) (2.0.1)\n",
      "Requirement already satisfied: pyrsistent>=0.14.0 in /Users/lab/opt/anaconda3/lib/python3.9/site-packages (from jsonschema>=3.0->altair>=3.2.0->streamlit->simpletransformers) (0.18.0)\n",
      "Requirement already satisfied: tzdata; python_version >= \"3.6\" in /Users/lab/opt/anaconda3/lib/python3.9/site-packages (from pytz-deprecation-shim->tzlocal>=1.1->streamlit->simpletransformers) (2022.7)\n",
      "Requirement already satisfied: pyasn1>=0.1.3 in /Users/lab/opt/anaconda3/lib/python3.9/site-packages (from rsa<5,>=3.1.4; python_version >= \"3.6\"->google-auth<3,>=1.6.3->tensorboard->simpletransformers) (0.4.8)\n",
      "Requirement already satisfied: oauthlib>=3.0.0 in /Users/lab/opt/anaconda3/lib/python3.9/site-packages (from requests-oauthlib>=0.7.0->google-auth-oauthlib<0.5,>=0.4.1->tensorboard->simpletransformers) (3.2.0)\n",
      "Building wheels for collected packages: validators, pathtools\n",
      "  Building wheel for validators (setup.py) ... \u001b[?25ldone\n",
      "\u001b[?25h  Created wheel for validators: filename=validators-0.20.0-cp39-none-any.whl size=19580 sha256=3c2e2974472294cf16102425189813397d3fa5ce27e20d92a5a8d23d5a8e082d\n",
      "  Stored in directory: /Users/lab/Library/Caches/pip/wheels/78/02/9b/6792cb888287d119f314664ab5e7579eaff131cccf18815757\n"
     ]
    },
    {
     "name": "stdout",
     "output_type": "stream",
     "text": [
      "  Building wheel for pathtools (setup.py) ... \u001b[?25ldone\n",
      "\u001b[?25h  Created wheel for pathtools: filename=pathtools-0.1.2-cp39-none-any.whl size=8792 sha256=7f26e69087d44458538ae19e295b3f2800565769f7b6923bf2f31bfa57e793f4\n",
      "  Stored in directory: /Users/lab/Library/Caches/pip/wheels/0b/04/79/c3b0c3a0266a3cb4376da31e5bfe8bba0c489246968a68e843\n",
      "Successfully built validators pathtools\n",
      "\u001b[31mERROR: spyder 5.1.5 requires pyqt5<5.13, which is not installed.\u001b[0m\n",
      "\u001b[31mERROR: spyder 5.1.5 requires pyqtwebengine<5.13, which is not installed.\u001b[0m\n",
      "\u001b[31mERROR: multiprocess 0.70.14 has requirement dill>=0.3.6, but you'll have dill 0.3.1.1 which is incompatible.\u001b[0m\n",
      "Installing collected packages: smmap, gitdb, gitpython, pygments, mdurl, markdown-it-py, rich, validators, blinker, pydeck, semver, altair, pympler, streamlit, xxhash, fsspec, responses, multiprocess, datasets, pathtools, docker-pycreds, setproctitle, wandb, simpletransformers\n",
      "  Found existing installation: Pygments 2.10.0\n",
      "    Uninstalling Pygments-2.10.0:\n",
      "      Successfully uninstalled Pygments-2.10.0\n",
      "  Found existing installation: fsspec 2021.8.1\n",
      "    Uninstalling fsspec-2021.8.1:\n",
      "      Successfully uninstalled fsspec-2021.8.1\n",
      "Successfully installed altair-4.2.2 blinker-1.5 datasets-2.10.1 docker-pycreds-0.4.0 fsspec-2023.3.0 gitdb-4.0.10 gitpython-3.1.31 markdown-it-py-2.2.0 mdurl-0.1.2 multiprocess-0.70.14 pathtools-0.1.2 pydeck-0.8.0 pygments-2.14.0 pympler-1.0.1 responses-0.18.0 rich-13.3.2 semver-2.13.0 setproctitle-1.3.2 simpletransformers-0.63.9 smmap-5.0.0 streamlit-1.12.0 validators-0.20.0 wandb-0.14.0 xxhash-3.2.0\n",
      "\u001b[33mWARNING: You are using pip version 19.3.1; however, version 23.0.1 is available.\n",
      "You should consider upgrading via the 'pip install --upgrade pip' command.\u001b[0m\n"
     ]
    }
   ],
   "source": [
    "!pip install simpletransformers"
   ]
  },
  {
   "cell_type": "code",
   "execution_count": 3,
   "id": "dc115a95",
   "metadata": {},
   "outputs": [],
   "source": [
    "!mkdir data"
   ]
  },
  {
   "cell_type": "code",
   "execution_count": 5,
   "id": "3b5d415b",
   "metadata": {},
   "outputs": [
    {
     "name": "stdout",
     "output_type": "stream",
     "text": [
      "--2023-03-16 01:24:56--  https://storage.googleapis.com/paws/english/paws_wiki_labeled_final.tar.gz\n",
      "Resolving storage.googleapis.com (storage.googleapis.com)... 142.250.199.176, 142.251.42.16, 142.250.183.80, ...\n",
      "Connecting to storage.googleapis.com (storage.googleapis.com)|142.250.199.176|:443... connected.\n",
      "HTTP request sent, awaiting response... 200 OK\n",
      "Length: 4687157 (4.5M) [application/gzip]\n",
      "Saving to: ‘data/paws_wiki_labeled_final.tar.gz’\n",
      "\n",
      "paws_wiki_labeled_f 100%[===================>]   4.47M  7.73MB/s    in 0.6s    \n",
      "\n",
      "2023-03-16 01:24:59 (7.73 MB/s) - ‘data/paws_wiki_labeled_final.tar.gz’ saved [4687157/4687157]\n",
      "\n",
      "x final/test.tsv\n",
      "x final/\n",
      "x final/train.tsv\n",
      "x final/dev.tsv\n",
      "--2023-03-16 01:25:00--  http://qim.fs.quoracdn.net/quora_duplicate_questions.tsv\n",
      "Resolving qim.fs.quoracdn.net (qim.fs.quoracdn.net)... 151.101.153.2\n",
      "Connecting to qim.fs.quoracdn.net (qim.fs.quoracdn.net)|151.101.153.2|:80... connected.\n",
      "HTTP request sent, awaiting response... 200 OK\n",
      "Length: 58176133 (55M) [text/tab-separated-values]\n",
      "Saving to: ‘data/quora_duplicate_questions.tsv’\n",
      "\n",
      "quora_duplicate_que 100%[===================>]  55.48M  13.4MB/s    in 4.3s    \n",
      "\n",
      "2023-03-16 01:25:08 (12.8 MB/s) - ‘data/quora_duplicate_questions.tsv’ saved [58176133/58176133]\n",
      "\n"
     ]
    }
   ],
   "source": [
    "\n",
    "!wget https://storage.googleapis.com/paws/english/paws_wiki_labeled_final.tar.gz -P data\n",
    "!tar -xvf data/paws_wiki_labeled_final.tar.gz -C data\n",
    "!mv data/final/* data\n",
    "!rm -r data/final\n",
    "\n",
    "!wget http://qim.fs.quoracdn.net/quora_duplicate_questions.tsv -P data"
   ]
  },
  {
   "cell_type": "code",
   "execution_count": 12,
   "id": "4ba449b3",
   "metadata": {},
   "outputs": [],
   "source": [
    "%env TOKENIZERS_PARALLELISM=False"
   ]
  },
  {
   "cell_type": "code",
   "execution_count": 6,
   "id": "bd258d85",
   "metadata": {},
   "outputs": [],
   "source": [
    "import warnings\n",
    "\n",
    "import pandas as pd\n",
    "\n",
    "\n",
    "def load_data(\n",
    "    file_path, input_text_column, target_text_column, label_column, keep_label=1\n",
    "):\n",
    "    df = pd.read_csv(file_path, sep=\"\\t\", error_bad_lines=False)\n",
    "    df = df.loc[df[label_column] == keep_label]\n",
    "    df = df.rename(\n",
    "        columns={input_text_column: \"input_text\", target_text_column: \"target_text\"}\n",
    "    )\n",
    "    df = df[[\"input_text\", \"target_text\"]]\n",
    "    df[\"prefix\"] = \"paraphrase\"\n",
    "\n",
    "    return df\n",
    "\n",
    "\n",
    "def clean_unnecessary_spaces(out_string):\n",
    "    if not isinstance(out_string, str):\n",
    "        warnings.warn(f\">>> {out_string} <<< is not a string.\")\n",
    "        out_string = str(out_string)\n",
    "    out_string = (\n",
    "        out_string.replace(\" .\", \".\")\n",
    "        .replace(\" ?\", \"?\")\n",
    "        .replace(\" !\", \"!\")\n",
    "        .replace(\" ,\", \",\")\n",
    "        .replace(\" ' \", \"'\")\n",
    "        .replace(\" n't\", \"n't\")\n",
    "        .replace(\" 'm\", \"'m\")\n",
    "        .replace(\" 's\", \"'s\")\n",
    "        .replace(\" 've\", \"'ve\")\n",
    "        .replace(\" 're\", \"'re\")\n",
    "    )\n",
    "    return out_string"
   ]
  },
  {
   "cell_type": "code",
   "execution_count": 8,
   "id": "8e2e2013",
   "metadata": {},
   "outputs": [],
   "source": [
    "import os\n",
    "from datetime import datetime\n",
    "import logging\n",
    "\n",
    "import pandas as pd\n",
    "from sklearn.model_selection import train_test_split\n",
    "from simpletransformers.seq2seq import Seq2SeqModel, Seq2SeqArgs\n",
    "\n",
    "#from utils import load_data, clean_unnecessary_spaces\n",
    "\n",
    "\n",
    "logging.basicConfig(level=logging.INFO)\n",
    "transformers_logger = logging.getLogger(\"transformers\")\n",
    "transformers_logger.setLevel(logging.ERROR)"
   ]
  },
  {
   "cell_type": "code",
   "execution_count": 9,
   "id": "99374bf8",
   "metadata": {},
   "outputs": [
    {
     "name": "stderr",
     "output_type": "stream",
     "text": [
      "/var/folders/xr/416ws0yd0s768860z9n20x_80000gn/T/ipykernel_31753/1570518480.py:25: FutureWarning: The error_bad_lines argument has been deprecated and will be removed in a future version.\n",
      "\n",
      "\n",
      "  load_data(\"data/msr_paraphrase_train.txt\", \"#1 String\", \"#2 String\", \"Quality\"),\n",
      "b'Skipping line 102: expected 5 fields, saw 6\\nSkipping line 656: expected 5 fields, saw 6\\nSkipping line 867: expected 5 fields, saw 6\\nSkipping line 880: expected 5 fields, saw 6\\nSkipping line 980: expected 5 fields, saw 6\\nSkipping line 1439: expected 5 fields, saw 6\\nSkipping line 1473: expected 5 fields, saw 6\\nSkipping line 1822: expected 5 fields, saw 6\\nSkipping line 1952: expected 5 fields, saw 6\\nSkipping line 2009: expected 5 fields, saw 6\\nSkipping line 2230: expected 5 fields, saw 6\\nSkipping line 2506: expected 5 fields, saw 6\\nSkipping line 2523: expected 5 fields, saw 6\\nSkipping line 2809: expected 5 fields, saw 6\\nSkipping line 2887: expected 5 fields, saw 6\\nSkipping line 2920: expected 5 fields, saw 6\\nSkipping line 2944: expected 5 fields, saw 6\\nSkipping line 3241: expected 5 fields, saw 6\\nSkipping line 3358: expected 5 fields, saw 6\\nSkipping line 3459: expected 5 fields, saw 6\\nSkipping line 3491: expected 5 fields, saw 6\\nSkipping line 3643: expected 5 fields, saw 6\\nSkipping line 3696: expected 5 fields, saw 6\\nSkipping line 3955: expected 5 fields, saw 6\\n'\n",
      "/var/folders/xr/416ws0yd0s768860z9n20x_80000gn/T/ipykernel_31753/1570518480.py:31: FutureWarning: The error_bad_lines argument has been deprecated and will be removed in a future version.\n",
      "\n",
      "\n",
      "  load_data(\"data/msr_paraphrase_test.txt\", \"#1 String\", \"#2 String\", \"Quality\"),\n",
      "b'Skipping line 34: expected 5 fields, saw 6\\nSkipping line 121: expected 5 fields, saw 6\\nSkipping line 211: expected 5 fields, saw 6\\nSkipping line 263: expected 5 fields, saw 6\\nSkipping line 345: expected 5 fields, saw 6\\nSkipping line 696: expected 5 fields, saw 6\\nSkipping line 733: expected 5 fields, saw 6\\nSkipping line 847: expected 5 fields, saw 6\\nSkipping line 1392: expected 5 fields, saw 6\\nSkipping line 1467: expected 5 fields, saw 6\\nSkipping line 1551: expected 5 fields, saw 6\\n'\n",
      "/var/folders/xr/416ws0yd0s768860z9n20x_80000gn/T/ipykernel_31753/1570518480.py:38: FutureWarning: The error_bad_lines argument has been deprecated and will be removed in a future version.\n",
      "\n",
      "\n",
      "  df = load_data(\n"
     ]
    },
    {
     "name": "stdout",
     "output_type": "stream",
     "text": [
      "            prefix                                         input_text  \\\n",
      "1       paraphrase  The NBA season of 1975 -- 76 was the 30th seas...   \n",
      "3       paraphrase  When comparable rates of flow can be maintaine...   \n",
      "4       paraphrase  It is the seat of Zerendi District in Akmola R...   \n",
      "5       paraphrase  William Henry Henry Harman was born on 17 Febr...   \n",
      "7       paraphrase  With a discrete amount of probabilities Formul...   \n",
      "...            ...                                                ...   \n",
      "282200  paraphrase  What are the best resources online to self-stu...   \n",
      "345855  paraphrase                     Why don't girls approach guys?   \n",
      "257668  paraphrase   Why is Saltwater Taffy candy imported in Poland?   \n",
      "153607  paraphrase       Can I see who viewed my videos on Instagram?   \n",
      "363350  paraphrase               How can I motivate myself for study?   \n",
      "\n",
      "                                              target_text  \n",
      "1       The 1975 -- 76 season of the National Basketba...  \n",
      "3       The results are high when comparable flow rate...  \n",
      "4       It is the seat of the district of Zerendi in A...  \n",
      "5       William Henry Harman was born in Waynesboro, V...  \n",
      "7       Given a discrete set of probabilities formula ...  \n",
      "...                                                   ...  \n",
      "282200            Which is the best site to learn German?  \n",
      "345855           Why don't women approach guys they like?  \n",
      "257668   Why is Saltwater Taffy candy imported in Greece?  \n",
      "153607    Can you see who views your videos in Instagram?  \n",
      "363350       How can I motivate myself to get into study?  \n",
      "\n",
      "[136422 rows x 3 columns]\n"
     ]
    }
   ],
   "source": [
    "# Google Data\n",
    "train_df = pd.read_csv(\"data/train.tsv\", sep=\"\\t\").astype(str)\n",
    "eval_df = pd.read_csv(\"data/dev.tsv\", sep=\"\\t\").astype(str)\n",
    "\n",
    "train_df = train_df.loc[train_df[\"label\"] == \"1\"]\n",
    "eval_df = eval_df.loc[eval_df[\"label\"] == \"1\"]\n",
    "\n",
    "train_df = train_df.rename(\n",
    "    columns={\"sentence1\": \"input_text\", \"sentence2\": \"target_text\"}\n",
    ")\n",
    "eval_df = eval_df.rename(\n",
    "    columns={\"sentence1\": \"input_text\", \"sentence2\": \"target_text\"}\n",
    ")\n",
    "\n",
    "train_df = train_df[[\"input_text\", \"target_text\"]]\n",
    "eval_df = eval_df[[\"input_text\", \"target_text\"]]\n",
    "\n",
    "train_df[\"prefix\"] = \"paraphrase\"\n",
    "eval_df[\"prefix\"] = \"paraphrase\"\n",
    "\n",
    "# MSRP Data\n",
    "train_df = pd.concat(\n",
    "    [\n",
    "        train_df,\n",
    "        load_data(\"data/msr_paraphrase_train.txt\", \"#1 String\", \"#2 String\", \"Quality\"),\n",
    "    ]\n",
    ")\n",
    "eval_df = pd.concat(\n",
    "    [\n",
    "        eval_df,\n",
    "        load_data(\"data/msr_paraphrase_test.txt\", \"#1 String\", \"#2 String\", \"Quality\"),\n",
    "    ]\n",
    ")\n",
    "\n",
    "# Quora Data\n",
    "\n",
    "# The Quora Dataset is not separated into train/test, so we do it manually the first time.\n",
    "df = load_data(\n",
    "    \"data/quora_duplicate_questions.tsv\", \"question1\", \"question2\", \"is_duplicate\"\n",
    ")\n",
    "q_train, q_test = train_test_split(df)\n",
    "\n",
    "q_train.to_csv(\"data/quora_train.tsv\", sep=\"\\t\")\n",
    "q_test.to_csv(\"data/quora_test.tsv\", sep=\"\\t\")\n",
    "\n",
    "# The code block above only needs to be run once.\n",
    "# After that, the two lines below are sufficient to load the Quora dataset.\n",
    "\n",
    "# q_train = pd.read_csv(\"data/quora_train.tsv\", sep=\"\\t\")\n",
    "# q_test = pd.read_csv(\"data/quora_test.tsv\", sep=\"\\t\")\n",
    "\n",
    "train_df = pd.concat([train_df, q_train])\n",
    "eval_df = pd.concat([eval_df, q_test])\n",
    "\n",
    "train_df = train_df[[\"prefix\", \"input_text\", \"target_text\"]]\n",
    "eval_df = eval_df[[\"prefix\", \"input_text\", \"target_text\"]]\n",
    "\n",
    "train_df = train_df.dropna()\n",
    "eval_df = eval_df.dropna()\n",
    "\n",
    "train_df[\"input_text\"] = train_df[\"input_text\"].apply(clean_unnecessary_spaces)\n",
    "train_df[\"target_text\"] = train_df[\"target_text\"].apply(clean_unnecessary_spaces)\n",
    "\n",
    "eval_df[\"input_text\"] = eval_df[\"input_text\"].apply(clean_unnecessary_spaces)\n",
    "eval_df[\"target_text\"] = eval_df[\"target_text\"].apply(clean_unnecessary_spaces)\n",
    "\n",
    "print(train_df)"
   ]
  },
  {
   "cell_type": "code",
   "execution_count": 14,
   "id": "13646e73",
   "metadata": {},
   "outputs": [
    {
     "name": "stderr",
     "output_type": "stream",
     "text": [
      "INFO:simpletransformers.seq2seq.seq2seq_utils: Creating features from dataset file at cache_dir/\n"
     ]
    },
    {
     "data": {
      "application/vnd.jupyter.widget-view+json": {
       "model_id": "cc9d203239a44ceca2b2f8a5e4304633",
       "version_major": 2,
       "version_minor": 0
      },
      "text/plain": [
       "  0%|          | 0/136422 [00:00<?, ?it/s]"
      ]
     },
     "metadata": {},
     "output_type": "display_data"
    },
    {
     "name": "stderr",
     "output_type": "stream",
     "text": [
      "INFO:simpletransformers.seq2seq.seq2seq_model: Training started\n"
     ]
    },
    {
     "data": {
      "application/vnd.jupyter.widget-view+json": {
       "model_id": "8bed0ce065dd4dddbb05ce0e7a2d7622",
       "version_major": 2,
       "version_minor": 0
      },
      "text/plain": [
       "Epoch:   0%|          | 0/2 [00:00<?, ?it/s]"
      ]
     },
     "metadata": {},
     "output_type": "display_data"
    },
    {
     "data": {
      "text/html": [
       "Finishing last run (ID:7n9zolfz) before initializing another..."
      ],
      "text/plain": [
       "<IPython.core.display.HTML object>"
      ]
     },
     "metadata": {},
     "output_type": "display_data"
    },
    {
     "data": {
      "text/html": [
       "Waiting for W&B process to finish... <strong style=\"color:green\">(success).</strong>"
      ],
      "text/plain": [
       "<IPython.core.display.HTML object>"
      ]
     },
     "metadata": {},
     "output_type": "display_data"
    },
    {
     "data": {
      "application/vnd.jupyter.widget-view+json": {
       "model_id": "edf39617a8d24ad99995262356d4b2a6",
       "version_major": 2,
       "version_minor": 0
      },
      "text/plain": [
       "VBox(children=(Label(value='0.001 MB of 0.033 MB uploaded (0.000 MB deduped)\\r'), FloatProgress(value=0.024770…"
      ]
     },
     "metadata": {},
     "output_type": "display_data"
    },
    {
     "data": {
      "text/html": [
       " View run <strong style=\"color:#cdcd00\">driven-wind-1</strong> at: <a href='https://wandb.ai/umeshtankml/Paraphrasing%20with%20BART/runs/7n9zolfz' target=\"_blank\">https://wandb.ai/umeshtankml/Paraphrasing%20with%20BART/runs/7n9zolfz</a><br/>Synced 6 W&B file(s), 0 media file(s), 0 artifact file(s) and 0 other file(s)"
      ],
      "text/plain": [
       "<IPython.core.display.HTML object>"
      ]
     },
     "metadata": {},
     "output_type": "display_data"
    },
    {
     "data": {
      "text/html": [
       "Find logs at: <code>./wandb/run-20230316_021048-7n9zolfz/logs</code>"
      ],
      "text/plain": [
       "<IPython.core.display.HTML object>"
      ]
     },
     "metadata": {},
     "output_type": "display_data"
    },
    {
     "data": {
      "text/html": [
       "Successfully finished last run (ID:7n9zolfz). Initializing new run:<br/>"
      ],
      "text/plain": [
       "<IPython.core.display.HTML object>"
      ]
     },
     "metadata": {},
     "output_type": "display_data"
    },
    {
     "data": {
      "application/vnd.jupyter.widget-view+json": {
       "model_id": "dca400db73534810954f293ff60fa9fb",
       "version_major": 2,
       "version_minor": 0
      },
      "text/plain": [
       "VBox(children=(Label(value='Waiting for wandb.init()...\\r'), FloatProgress(value=0.016686913599998358, max=1.0…"
      ]
     },
     "metadata": {},
     "output_type": "display_data"
    },
    {
     "data": {
      "text/html": [
       "Tracking run with wandb version 0.14.0"
      ],
      "text/plain": [
       "<IPython.core.display.HTML object>"
      ]
     },
     "metadata": {},
     "output_type": "display_data"
    },
    {
     "data": {
      "text/html": [
       "Run data is saved locally in <code>/Users/lab/Umesh/Course/sem4/src/xformer/wandb/run-20230316_085623-03w5hqsj</code>"
      ],
      "text/plain": [
       "<IPython.core.display.HTML object>"
      ]
     },
     "metadata": {},
     "output_type": "display_data"
    },
    {
     "data": {
      "text/html": [
       "Syncing run <strong><a href='https://wandb.ai/umeshtankml/Paraphrasing%20with%20BART/runs/03w5hqsj' target=\"_blank\">eternal-moon-2</a></strong> to <a href='https://wandb.ai/umeshtankml/Paraphrasing%20with%20BART' target=\"_blank\">Weights & Biases</a> (<a href='https://wandb.me/run' target=\"_blank\">docs</a>)<br/>"
      ],
      "text/plain": [
       "<IPython.core.display.HTML object>"
      ]
     },
     "metadata": {},
     "output_type": "display_data"
    },
    {
     "data": {
      "text/html": [
       " View project at <a href='https://wandb.ai/umeshtankml/Paraphrasing%20with%20BART' target=\"_blank\">https://wandb.ai/umeshtankml/Paraphrasing%20with%20BART</a>"
      ],
      "text/plain": [
       "<IPython.core.display.HTML object>"
      ]
     },
     "metadata": {},
     "output_type": "display_data"
    },
    {
     "data": {
      "text/html": [
       " View run at <a href='https://wandb.ai/umeshtankml/Paraphrasing%20with%20BART/runs/03w5hqsj' target=\"_blank\">https://wandb.ai/umeshtankml/Paraphrasing%20with%20BART/runs/03w5hqsj</a>"
      ],
      "text/plain": [
       "<IPython.core.display.HTML object>"
      ]
     },
     "metadata": {},
     "output_type": "display_data"
    },
    {
     "data": {
      "application/vnd.jupyter.widget-view+json": {
       "model_id": "a0f9c3ae01424fad8ba06ef2f4a1c279",
       "version_major": 2,
       "version_minor": 0
      },
      "text/plain": [
       "Running Epoch 0 of 2:   0%|          | 0/17053 [00:00<?, ?it/s]"
      ]
     },
     "metadata": {},
     "output_type": "display_data"
    },
    {
     "ename": "KeyboardInterrupt",
     "evalue": "",
     "output_type": "error",
     "traceback": [
      "\u001b[0;31m---------------------------------------------------------------------------\u001b[0m",
      "\u001b[0;31mKeyboardInterrupt\u001b[0m                         Traceback (most recent call last)",
      "\u001b[0;32m/var/folders/xr/416ws0yd0s768860z9n20x_80000gn/T/ipykernel_31753/2320570998.py\u001b[0m in \u001b[0;36m<module>\u001b[0;34m\u001b[0m\n\u001b[1;32m     30\u001b[0m )\n\u001b[1;32m     31\u001b[0m \u001b[0;34m\u001b[0m\u001b[0m\n\u001b[0;32m---> 32\u001b[0;31m \u001b[0mmodel\u001b[0m\u001b[0;34m.\u001b[0m\u001b[0mtrain_model\u001b[0m\u001b[0;34m(\u001b[0m\u001b[0mtrain_df\u001b[0m\u001b[0;34m,\u001b[0m \u001b[0meval_data\u001b[0m\u001b[0;34m=\u001b[0m\u001b[0meval_df\u001b[0m\u001b[0;34m)\u001b[0m\u001b[0;34m\u001b[0m\u001b[0;34m\u001b[0m\u001b[0m\n\u001b[0m\u001b[1;32m     33\u001b[0m \u001b[0;34m\u001b[0m\u001b[0m\n\u001b[1;32m     34\u001b[0m to_predict = [\n",
      "\u001b[0;32m~/opt/anaconda3/lib/python3.9/site-packages/simpletransformers/seq2seq/seq2seq_model.py\u001b[0m in \u001b[0;36mtrain_model\u001b[0;34m(self, train_data, output_dir, show_running_loss, args, eval_data, verbose, **kwargs)\u001b[0m\n\u001b[1;32m    445\u001b[0m         \u001b[0mos\u001b[0m\u001b[0;34m.\u001b[0m\u001b[0mmakedirs\u001b[0m\u001b[0;34m(\u001b[0m\u001b[0moutput_dir\u001b[0m\u001b[0;34m,\u001b[0m \u001b[0mexist_ok\u001b[0m\u001b[0;34m=\u001b[0m\u001b[0;32mTrue\u001b[0m\u001b[0;34m)\u001b[0m\u001b[0;34m\u001b[0m\u001b[0;34m\u001b[0m\u001b[0m\n\u001b[1;32m    446\u001b[0m \u001b[0;34m\u001b[0m\u001b[0m\n\u001b[0;32m--> 447\u001b[0;31m         global_step, training_details = self.train(\n\u001b[0m\u001b[1;32m    448\u001b[0m             \u001b[0mtrain_dataset\u001b[0m\u001b[0;34m,\u001b[0m\u001b[0;34m\u001b[0m\u001b[0;34m\u001b[0m\u001b[0m\n\u001b[1;32m    449\u001b[0m             \u001b[0moutput_dir\u001b[0m\u001b[0;34m,\u001b[0m\u001b[0;34m\u001b[0m\u001b[0;34m\u001b[0m\u001b[0m\n",
      "\u001b[0;32m~/opt/anaconda3/lib/python3.9/site-packages/simpletransformers/seq2seq/seq2seq_model.py\u001b[0m in \u001b[0;36mtrain\u001b[0;34m(self, train_dataset, output_dir, show_running_loss, eval_data, verbose, **kwargs)\u001b[0m\n\u001b[1;32m    773\u001b[0m                     \u001b[0mscaler\u001b[0m\u001b[0;34m.\u001b[0m\u001b[0mscale\u001b[0m\u001b[0;34m(\u001b[0m\u001b[0mloss\u001b[0m\u001b[0;34m)\u001b[0m\u001b[0;34m.\u001b[0m\u001b[0mbackward\u001b[0m\u001b[0;34m(\u001b[0m\u001b[0;34m)\u001b[0m\u001b[0;34m\u001b[0m\u001b[0;34m\u001b[0m\u001b[0m\n\u001b[1;32m    774\u001b[0m                 \u001b[0;32melse\u001b[0m\u001b[0;34m:\u001b[0m\u001b[0;34m\u001b[0m\u001b[0;34m\u001b[0m\u001b[0m\n\u001b[0;32m--> 775\u001b[0;31m                     \u001b[0mloss\u001b[0m\u001b[0;34m.\u001b[0m\u001b[0mbackward\u001b[0m\u001b[0;34m(\u001b[0m\u001b[0;34m)\u001b[0m\u001b[0;34m\u001b[0m\u001b[0;34m\u001b[0m\u001b[0m\n\u001b[0m\u001b[1;32m    776\u001b[0m \u001b[0;34m\u001b[0m\u001b[0m\n\u001b[1;32m    777\u001b[0m                 \u001b[0mtr_loss\u001b[0m \u001b[0;34m+=\u001b[0m \u001b[0mloss\u001b[0m\u001b[0;34m.\u001b[0m\u001b[0mitem\u001b[0m\u001b[0;34m(\u001b[0m\u001b[0;34m)\u001b[0m\u001b[0;34m\u001b[0m\u001b[0;34m\u001b[0m\u001b[0m\n",
      "\u001b[0;32m~/opt/anaconda3/lib/python3.9/site-packages/torch/_tensor.py\u001b[0m in \u001b[0;36mbackward\u001b[0;34m(self, gradient, retain_graph, create_graph, inputs)\u001b[0m\n\u001b[1;32m    305\u001b[0m                 \u001b[0mcreate_graph\u001b[0m\u001b[0;34m=\u001b[0m\u001b[0mcreate_graph\u001b[0m\u001b[0;34m,\u001b[0m\u001b[0;34m\u001b[0m\u001b[0;34m\u001b[0m\u001b[0m\n\u001b[1;32m    306\u001b[0m                 inputs=inputs)\n\u001b[0;32m--> 307\u001b[0;31m         \u001b[0mtorch\u001b[0m\u001b[0;34m.\u001b[0m\u001b[0mautograd\u001b[0m\u001b[0;34m.\u001b[0m\u001b[0mbackward\u001b[0m\u001b[0;34m(\u001b[0m\u001b[0mself\u001b[0m\u001b[0;34m,\u001b[0m \u001b[0mgradient\u001b[0m\u001b[0;34m,\u001b[0m \u001b[0mretain_graph\u001b[0m\u001b[0;34m,\u001b[0m \u001b[0mcreate_graph\u001b[0m\u001b[0;34m,\u001b[0m \u001b[0minputs\u001b[0m\u001b[0;34m=\u001b[0m\u001b[0minputs\u001b[0m\u001b[0;34m)\u001b[0m\u001b[0;34m\u001b[0m\u001b[0;34m\u001b[0m\u001b[0m\n\u001b[0m\u001b[1;32m    308\u001b[0m \u001b[0;34m\u001b[0m\u001b[0m\n\u001b[1;32m    309\u001b[0m     \u001b[0;32mdef\u001b[0m \u001b[0mregister_hook\u001b[0m\u001b[0;34m(\u001b[0m\u001b[0mself\u001b[0m\u001b[0;34m,\u001b[0m \u001b[0mhook\u001b[0m\u001b[0;34m)\u001b[0m\u001b[0;34m:\u001b[0m\u001b[0;34m\u001b[0m\u001b[0;34m\u001b[0m\u001b[0m\n",
      "\u001b[0;32m~/opt/anaconda3/lib/python3.9/site-packages/torch/autograd/__init__.py\u001b[0m in \u001b[0;36mbackward\u001b[0;34m(tensors, grad_tensors, retain_graph, create_graph, grad_variables, inputs)\u001b[0m\n\u001b[1;32m    152\u001b[0m         \u001b[0mretain_graph\u001b[0m \u001b[0;34m=\u001b[0m \u001b[0mcreate_graph\u001b[0m\u001b[0;34m\u001b[0m\u001b[0;34m\u001b[0m\u001b[0m\n\u001b[1;32m    153\u001b[0m \u001b[0;34m\u001b[0m\u001b[0m\n\u001b[0;32m--> 154\u001b[0;31m     Variable._execution_engine.run_backward(\n\u001b[0m\u001b[1;32m    155\u001b[0m         \u001b[0mtensors\u001b[0m\u001b[0;34m,\u001b[0m \u001b[0mgrad_tensors_\u001b[0m\u001b[0;34m,\u001b[0m \u001b[0mretain_graph\u001b[0m\u001b[0;34m,\u001b[0m \u001b[0mcreate_graph\u001b[0m\u001b[0;34m,\u001b[0m \u001b[0minputs\u001b[0m\u001b[0;34m,\u001b[0m\u001b[0;34m\u001b[0m\u001b[0;34m\u001b[0m\u001b[0m\n\u001b[1;32m    156\u001b[0m         allow_unreachable=True, accumulate_grad=True)  # allow_unreachable flag\n",
      "\u001b[0;32m~/opt/anaconda3/lib/python3.9/site-packages/wandb/wandb_torch.py\u001b[0m in \u001b[0;36m<lambda>\u001b[0;34m(grad)\u001b[0m\n\u001b[1;32m    280\u001b[0m             \u001b[0mself\u001b[0m\u001b[0;34m.\u001b[0m\u001b[0mlog_tensor_stats\u001b[0m\u001b[0;34m(\u001b[0m\u001b[0mgrad\u001b[0m\u001b[0;34m.\u001b[0m\u001b[0mdata\u001b[0m\u001b[0;34m,\u001b[0m \u001b[0mname\u001b[0m\u001b[0;34m)\u001b[0m\u001b[0;34m\u001b[0m\u001b[0;34m\u001b[0m\u001b[0m\n\u001b[1;32m    281\u001b[0m \u001b[0;34m\u001b[0m\u001b[0m\n\u001b[0;32m--> 282\u001b[0;31m         \u001b[0mhandle\u001b[0m \u001b[0;34m=\u001b[0m \u001b[0mvar\u001b[0m\u001b[0;34m.\u001b[0m\u001b[0mregister_hook\u001b[0m\u001b[0;34m(\u001b[0m\u001b[0;32mlambda\u001b[0m \u001b[0mgrad\u001b[0m\u001b[0;34m:\u001b[0m \u001b[0m_callback\u001b[0m\u001b[0;34m(\u001b[0m\u001b[0mgrad\u001b[0m\u001b[0;34m,\u001b[0m \u001b[0mlog_track\u001b[0m\u001b[0;34m)\u001b[0m\u001b[0;34m)\u001b[0m\u001b[0;34m\u001b[0m\u001b[0;34m\u001b[0m\u001b[0m\n\u001b[0m\u001b[1;32m    283\u001b[0m         \u001b[0mself\u001b[0m\u001b[0;34m.\u001b[0m\u001b[0m_hook_handles\u001b[0m\u001b[0;34m[\u001b[0m\u001b[0mname\u001b[0m\u001b[0;34m]\u001b[0m \u001b[0;34m=\u001b[0m \u001b[0mhandle\u001b[0m\u001b[0;34m\u001b[0m\u001b[0;34m\u001b[0m\u001b[0m\n\u001b[1;32m    284\u001b[0m         \u001b[0;32mreturn\u001b[0m \u001b[0mhandle\u001b[0m\u001b[0;34m\u001b[0m\u001b[0;34m\u001b[0m\u001b[0m\n",
      "\u001b[0;31mKeyboardInterrupt\u001b[0m: "
     ]
    }
   ],
   "source": [
    "model_args = Seq2SeqArgs()\n",
    "model_args.do_sample = True\n",
    "model_args.eval_batch_size = 64\n",
    "model_args.evaluate_during_training = True\n",
    "model_args.evaluate_during_training_steps = 2500\n",
    "model_args.evaluate_during_training_verbose = True\n",
    "model_args.fp16 = False\n",
    "model_args.learning_rate = 5e-5\n",
    "model_args.max_length = 128\n",
    "model_args.max_seq_length = 128\n",
    "model_args.num_beams = None\n",
    "model_args.num_return_sequences = 3\n",
    "model_args.num_train_epochs = 2\n",
    "model_args.overwrite_output_dir = True\n",
    "model_args.reprocess_input_data = True\n",
    "model_args.save_eval_checkpoints = False\n",
    "model_args.save_steps = -1\n",
    "model_args.top_k = 50\n",
    "model_args.top_p = 0.95\n",
    "model_args.train_batch_size = 8\n",
    "model_args.use_multiprocessing = False\n",
    "model_args.wandb_project = \"Paraphrasing with BART\"\n",
    "\n",
    "\n",
    "model = Seq2SeqModel(\n",
    "    encoder_decoder_type=\"bart\",\n",
    "    encoder_decoder_name=\"facebook/bart-large\",\n",
    "    args=model_args,\n",
    "    use_cuda=False,\n",
    ")\n",
    "\n",
    "model.train_model(train_df, eval_data=eval_df)\n",
    "\n",
    "to_predict = [\n",
    "    prefix + \": \" + str(input_text)\n",
    "    for prefix, input_text in zip(eval_df[\"prefix\"].tolist(), eval_df[\"input_text\"].tolist())\n",
    "]\n",
    "truth = eval_df[\"target_text\"].tolist()\n",
    "\n",
    "preds = model.predict(to_predict)\n",
    "\n",
    "# Saving the predictions if needed\n",
    "os.makedirs(\"predictions\", exist_ok=True)\n",
    "\n",
    "with open(f\"predictions/predictions_{datetime.now()}.txt\", \"w\") as f:\n",
    "    for i, text in enumerate(eval_df[\"input_text\"].tolist()):\n",
    "        f.write(str(text) + \"\\n\\n\")\n",
    "\n",
    "        f.write(\"Truth:\\n\")\n",
    "        f.write(truth[i] + \"\\n\\n\")\n",
    "\n",
    "        f.write(\"Prediction:\\n\")\n",
    "        for pred in preds[i]:\n",
    "            f.write(str(pred) + \"\\n\")\n",
    "        f.write(\n",
    "            \"________________________________________________________________________________\\n\"\n",
    "        )"
   ]
  },
  {
   "cell_type": "code",
   "execution_count": null,
   "id": "da477b50",
   "metadata": {},
   "outputs": [],
   "source": []
  }
 ],
 "metadata": {
  "kernelspec": {
   "display_name": "Python 3 (ipykernel)",
   "language": "python",
   "name": "python3"
  },
  "language_info": {
   "codemirror_mode": {
    "name": "ipython",
    "version": 3
   },
   "file_extension": ".py",
   "mimetype": "text/x-python",
   "name": "python",
   "nbconvert_exporter": "python",
   "pygments_lexer": "ipython3",
   "version": "3.9.7"
  }
 },
 "nbformat": 4,
 "nbformat_minor": 5
}
